{
 "cells": [
  {
   "cell_type": "markdown",
   "id": "8a653fd7",
   "metadata": {},
   "source": [
    "# Introduction\n",
    "\n",
    "There are several decision points one encounters in setting up a neural network model, for example:\n",
    "\n",
    "1. How many layers should my network have?\n",
    "2. How many nodes should each layer have?\n",
    "3. Which activiation function should each node use?\n",
    "4. Which loss function should I use?\n",
    "5. How should I optimize the loss function?\n",
    "6. How many data points should I draw each time I wish to update the parameters? (batch size)\n",
    "7. How many times should I pass through the data? (epochs)\n",
    "\n",
    "High-level programming frameworks allow you to explore these various choices without entering into the underlying coding details of implementing them.  There are several such open-source frameworks but here we will use Keras, which is popular and easy-to-use.  Keras is built on top of Tensorflow, a lower-level library for tensor manipulation, automatic differentation, and machine learning.  Both Keras and Tensorflow are native to Python, and so to use them with R requires a Python installation and an R interface to Python.  We will run Keras code through Colab notebooks to avoid these set-up costs."
   ]
  },
  {
   "cell_type": "code",
   "execution_count": 1,
   "id": "592d02db",
   "metadata": {
    "vscode": {
     "languageId": "r"
    }
   },
   "outputs": [],
   "source": [
    "# install.packages(\"keras\")\n",
    "library(keras)"
   ]
  },
  {
   "cell_type": "markdown",
   "id": "d1fd0169",
   "metadata": {},
   "source": [
    "# Logistic Regression\n",
    "\n",
    "A fundamental object in building a Keras is a *layer* which represents a layer in a neural network.  A layer's attributes include a number of nodes and activation function.  To illustrate this, we can re-implement logistic regression with Keras, which is a single-layer neural network with one node and a sigmoid activiation function."
   ]
  },
  {
   "cell_type": "code",
   "execution_count": null,
   "id": "a5f58a0d",
   "metadata": {
    "vscode": {
     "languageId": "r"
    }
   },
   "outputs": [],
   "source": [
    "# paper data for logistic regression\n",
    "data <- read.csv(\"./data_for_tree.csv\")\n",
    "x <- as.matrix(data[, c(\"log_pop\", \"white_share\")])\n",
    "y <- as.matrix(data$trump_win)"
   ]
  },
  {
   "cell_type": "code",
   "execution_count": null,
   "id": "0532e5ec",
   "metadata": {
    "vscode": {
     "languageId": "r"
    }
   },
   "outputs": [],
   "source": [
    "# instantiate keras model for logistic regression\n",
    "model <- keras_model_sequential() %>%\n",
    "    layer_dense(1, activation = \"sigmoid\", input_shape = 2)\n",
    "\n",
    "# compile model (in place)\n",
    "model %>% compile(\n",
    "    optimizer = \"rmsprop\",\n",
    "    loss = \"binary_crossentropy\",\n",
    "    metrics = \"accuracy\"\n",
    ")\n"
   ]
  },
  {
   "cell_type": "markdown",
   "id": "1d21ec70",
   "metadata": {},
   "source": [
    "There are a wide variety of options available for building and compiling a model:"
   ]
  },
  {
   "cell_type": "code",
   "execution_count": null,
   "id": "c77f82db",
   "metadata": {
    "vscode": {
     "languageId": "r"
    }
   },
   "outputs": [],
   "source": [
    "# available optimizers\n",
    "print(ls(pattern = \"^optimizer_\", \"package:keras\"))\n",
    "\n",
    "# available loss functions\n",
    "print(ls(pattern = \"^loss_\", \"package:keras\"))\n",
    "\n",
    "# available metrics\n",
    "print(ls(pattern = \"^metric_\", \"package:keras\"))"
   ]
  },
  {
   "cell_type": "markdown",
   "id": "3b592388",
   "metadata": {},
   "source": [
    "Now we can fit our model and supply a batch size and number of epochs."
   ]
  },
  {
   "cell_type": "code",
   "execution_count": null,
   "id": "0d3181d4",
   "metadata": {
    "vscode": {
     "languageId": "r"
    }
   },
   "outputs": [],
   "source": [
    "history <- model %>% fit(x, y, epochs = 100, batch_size = 50)"
   ]
  },
  {
   "cell_type": "markdown",
   "id": "f7cd9c9f",
   "metadata": {},
   "source": [
    "The *history* object that *fit* returns can be plotted to assess the loss and accuracy of the model."
   ]
  },
  {
   "cell_type": "code",
   "execution_count": null,
   "id": "1c7d6153",
   "metadata": {
    "vscode": {
     "languageId": "r"
    }
   },
   "outputs": [],
   "source": [
    "plot(history)"
   ]
  },
  {
   "cell_type": "markdown",
   "id": "350d4e97",
   "metadata": {},
   "source": [
    "We can also retrieve the parameters (weights) at the current state of the model."
   ]
  },
  {
   "cell_type": "code",
   "execution_count": null,
   "id": "4352e4c0",
   "metadata": {
    "vscode": {
     "languageId": "r"
    }
   },
   "outputs": [],
   "source": [
    "model$weights"
   ]
  },
  {
   "cell_type": "markdown",
   "id": "b10827e1",
   "metadata": {},
   "source": [
    "And compare them to the logistic regression coefficients estimated by the *glm* package."
   ]
  },
  {
   "cell_type": "code",
   "execution_count": null,
   "id": "55b7baae",
   "metadata": {
    "vscode": {
     "languageId": "r"
    }
   },
   "outputs": [],
   "source": [
    "log_mod <- glm(factor(trump_win) ~ log_pop + white_share, \"binomial\", data)\n",
    "log_mod$coefficients"
   ]
  },
  {
   "cell_type": "markdown",
   "id": "da10d1e7",
   "metadata": {},
   "source": [
    "Updating the parameters by passing through more epochs should improve the fit."
   ]
  },
  {
   "cell_type": "code",
   "execution_count": null,
   "id": "1ac88e0a",
   "metadata": {
    "vscode": {
     "languageId": "r"
    }
   },
   "outputs": [],
   "source": [
    "history2 <- model %>% fit(x, y, epochs = 200, batch_size = 50)"
   ]
  },
  {
   "cell_type": "code",
   "execution_count": null,
   "id": "f773a651",
   "metadata": {
    "vscode": {
     "languageId": "r"
    }
   },
   "outputs": [],
   "source": [
    "plot(history2)"
   ]
  },
  {
   "cell_type": "code",
   "execution_count": null,
   "id": "ddf92b15",
   "metadata": {
    "vscode": {
     "languageId": "r"
    }
   },
   "outputs": [],
   "source": [
    "model$weights"
   ]
  },
  {
   "cell_type": "markdown",
   "id": "9bda95ff",
   "metadata": {},
   "source": [
    "# Homework Example\n",
    "\n",
    "Now we can return to your homework assignment in which you approximate a non-linear function with one hidden layer of nodes each with sigmoid activiation function."
   ]
  },
  {
   "cell_type": "code",
   "execution_count": 2,
   "id": "66ad6a34",
   "metadata": {
    "vscode": {
     "languageId": "r"
    }
   },
   "outputs": [
    {
     "data": {
      "image/png": "[encoded data removed]",
      "text/plain": [
       "plot without title"
      ]
     },
     "metadata": {
      "image/png": {
       "height": 420,
       "width": 420
      }
     },
     "output_type": "display_data"
    }
   ],
   "source": [
    "# function to approximate\n",
    "\n",
    "x <- runif(500, -4, 4)\n",
    "y <- x^2 - 0.2 * x^3\n",
    "\n",
    "library(ggplot2)\n",
    "ggplot(data.frame(x = x, y = y), aes(x, y)) +\n",
    "    geom_line()"
   ]
  },
  {
   "cell_type": "markdown",
   "id": "ffd1694f",
   "metadata": {},
   "source": [
    "We can specify the model by generating two layers rather than one in a keras sequential model.  Note the pipe notation highlights how a network is built layer-by-layer."
   ]
  },
  {
   "cell_type": "code",
   "execution_count": 3,
   "id": "ca9aa1b5",
   "metadata": {
    "vscode": {
     "languageId": "r"
    }
   },
   "outputs": [],
   "source": [
    "model <- keras_model_sequential() %>%\n",
    "    layer_dense(2, activation = \"sigmoid\", input_shape = 1) %>%\n",
    "    layer_dense(1) # if no activiation is specified, default to linear\n",
    "\n",
    "model %>% compile(\n",
    "    optimizer = \"rmsprop\",\n",
    "    loss = \"mse\", # mean squared error\n",
    "    metrics = \"mae\" # mean absolute error\n",
    ")"
   ]
  },
  {
   "cell_type": "markdown",
   "id": "c21c1afc",
   "metadata": {},
   "source": [
    "As we begin to build more complex models, keeping track of their structure becomes important."
   ]
  },
  {
   "cell_type": "code",
   "execution_count": null,
   "id": "000ac4af",
   "metadata": {
    "vscode": {
     "languageId": "r"
    }
   },
   "outputs": [],
   "source": [
    "summary(model)"
   ]
  },
  {
   "cell_type": "markdown",
   "id": "46f2e966",
   "metadata": {},
   "source": [
    "As above, we can now fit the model."
   ]
  },
  {
   "cell_type": "code",
   "execution_count": 4,
   "id": "175920c7",
   "metadata": {
    "vscode": {
     "languageId": "r"
    }
   },
   "outputs": [],
   "source": [
    "history <- model %>% fit(x, y, epochs = 1000, batch_size = 50)\n",
    "plot(history)"
   ]
  },
  {
   "cell_type": "markdown",
   "id": "e09d7fb1",
   "metadata": {},
   "source": [
    "We can also visualize how well our function approximation compares with the truth."
   ]
  },
  {
   "cell_type": "code",
   "execution_count": null,
   "id": "c3505249",
   "metadata": {
    "vscode": {
     "languageId": "r"
    }
   },
   "outputs": [],
   "source": [
    "# generate predicted values from fitted model\n",
    "y_hat <- as.numeric(predict(model, x))\n",
    "\n",
    "# plot true and estimated function\n",
    "data_plot <- data.frame(\n",
    "    x = rep(x, 2),\n",
    "    y = c(y, y_hat),\n",
    "    type = c(rep(\"true\", length(x)), rep(\"fitted\", length(x)))\n",
    ")\n",
    "\n",
    "ggplot(data_plot, aes(x = x, y = y, col = type)) + geom_line()"
   ]
  },
  {
   "cell_type": "markdown",
   "id": "ed69956d",
   "metadata": {},
   "source": [
    "To obtain a better approximation, we can increase the number of nodes in the network.  Let's try 20 nodes for a much more flexible model."
   ]
  },
  {
   "cell_type": "code",
   "execution_count": null,
   "id": "68e8f6f9",
   "metadata": {
    "vscode": {
     "languageId": "r"
    }
   },
   "outputs": [],
   "source": [
    "model <- keras_model_sequential() %>%\n",
    "    layer_dense(20, activation = \"sigmoid\", input_shape = 1) %>%\n",
    "    layer_dense(1) # if no activiation is specified, default to linear\n",
    "\n",
    "model %>% compile(\n",
    "    optimizer = \"rmsprop\",\n",
    "    loss = \"mse\", # mean squared error\n",
    "    metrics = \"mae\" # mean absolute error\n",
    ")"
   ]
  },
  {
   "cell_type": "code",
   "execution_count": null,
   "id": "6889418c",
   "metadata": {
    "vscode": {
     "languageId": "r"
    }
   },
   "outputs": [],
   "source": [
    "summary(model)"
   ]
  },
  {
   "cell_type": "code",
   "execution_count": null,
   "id": "aeb094eb",
   "metadata": {
    "vscode": {
     "languageId": "r"
    }
   },
   "outputs": [],
   "source": [
    "history <- model %>% fit(x, y, epochs = 1000, batch_size = 50)\n",
    "plot(history)"
   ]
  },
  {
   "cell_type": "code",
   "execution_count": null,
   "id": "fbeddc05",
   "metadata": {
    "vscode": {
     "languageId": "r"
    }
   },
   "outputs": [],
   "source": [
    "# generate predicted values from fitted model\n",
    "y_hat <- as.numeric(predict(model, x))\n",
    "\n",
    "# plot true and estimated function\n",
    "data_plot <- data.frame(\n",
    "    x = rep(x, 2),\n",
    "    y = c(y, y_hat),\n",
    "    type = c(rep(\"true\", length(x)), rep(\"fitted\", length(x)))\n",
    ")\n",
    "\n",
    "ggplot(data_plot, aes(x = x, y = y, col = type)) +\n",
    "    geom_line()"
   ]
  },
  {
   "cell_type": "markdown",
   "id": "d8da24f3",
   "metadata": {},
   "source": [
    "# Out-of-Sample Performance\n",
    "\n",
    "Recall the out-of-sample goodness-of-fit comparison we did with regression trees.  We can perform a similar excercise with a neural network:"
   ]
  },
  {
   "cell_type": "code",
   "execution_count": null,
   "id": "30e2bc8d",
   "metadata": {
    "vscode": {
     "languageId": "r"
    }
   },
   "outputs": [],
   "source": [
    "set.seed(20)\n",
    "train <- sample(1:nrow(data), 2000)\n",
    "\n",
    "covars <- c(\"log_pop\", \"white_share\", \"log_y\", \"south\", \"un_rate\")\n",
    "\n",
    "x_train <- as.matrix(data[train, covars])\n",
    "y_train <- as.matrix(data[train, \"trump_win\"])\n",
    "\n",
    "x_test <- as.matrix(data[-train, covars])\n",
    "y_test <- as.matrix(data[-train, \"trump_win\"])"
   ]
  },
  {
   "cell_type": "code",
   "execution_count": null,
   "id": "cab16239",
   "metadata": {
    "vscode": {
     "languageId": "r"
    }
   },
   "outputs": [],
   "source": [
    "# instantiate keras model for logistic regression\n",
    "model <- keras_model_sequential() %>%\n",
    "    layer_dense(10, activation = \"relu\", input_shape = 5) %>%\n",
    "    layer_dense(10, activation = \"relu\") %>%\n",
    "    layer_dense(1, activation = \"sigmoid\")\n",
    "\n",
    "# compile model (in place)\n",
    "model %>% compile(\n",
    "    optimizer = \"rmsprop\",\n",
    "    loss = \"binary_crossentropy\",\n",
    "    metrics = \"accuracy\"\n",
    ")"
   ]
  },
  {
   "cell_type": "code",
   "execution_count": null,
   "id": "64965880",
   "metadata": {
    "vscode": {
     "languageId": "r"
    }
   },
   "outputs": [],
   "source": [
    "history <- model %>% fit(x_train, y_train, epochs = 400, batch_size = 50)\n",
    "model %>% evaluate(x_test, y_test) # assess out-of-sample goodness-of-fit"
   ]
  }
 ],
 "metadata": {
  "jupytext": {
   "cell_metadata_filter": "-all",
   "main_language": "R",
   "notebook_metadata_filter": "-all"
  },
  "kernelspec": {
   "display_name": "R",
   "language": "R",
   "name": "ir"
  },
  "language_info": {
   "codemirror_mode": "r",
   "file_extension": ".r",
   "mimetype": "text/x-r-source",
   "name": "R",
   "pygments_lexer": "r",
   "version": "4.2.1"
  }
 },
 "nbformat": 4,
 "nbformat_minor": 5
}
